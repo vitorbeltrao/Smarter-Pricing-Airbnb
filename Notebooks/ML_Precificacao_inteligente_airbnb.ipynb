{
 "cells": [
  {
   "cell_type": "markdown",
   "id": "d224d0fc-5cf8-4e75-8821-c443e61377da",
   "metadata": {},
   "source": [
    "# Machine Learning\n",
    "\n",
    "Nesse notebook, iremos:\n",
    "* Preparar os dados\n",
    "* Selecionar e treinar alguns modelos de machine learning\n",
    "* Aperfeiçoar o sistema"
   ]
  },
  {
   "cell_type": "code",
   "execution_count": 1,
   "id": "17d2be6c-6d03-46c5-b0f8-9f2d2360e3d8",
   "metadata": {},
   "outputs": [],
   "source": [
    "# Importar os pacotes necessários\n",
    "import warnings\n",
    "warnings.simplefilter(action='ignore')\n",
    "import pandas as pd\n",
    "import numpy as np\n",
    "import matplotlib.pyplot as plt\n",
    "import seaborn as sns\n",
    "import joblib\n",
    "\n",
    "from sklearn.pipeline import Pipeline\n",
    "from sklearn.preprocessing import StandardScaler\n",
    "from sklearn.compose import ColumnTransformer\n",
    "from sklearn.compose import make_column_selector as selector\n",
    "from sklearn.preprocessing import OneHotEncoder\n",
    "from sklearn.preprocessing import PolynomialFeatures\n",
    "\n",
    "from sklearn.feature_selection import f_regression, mutual_info_regression\n",
    "from sklearn.feature_selection import SelectKBest\n",
    "from sklearn.feature_selection import SelectPercentile\n",
    "from sklearn.feature_selection import SelectFromModel\n",
    "from sklearn.model_selection import GridSearchCV\n",
    "\n",
    "from sklearn.ensemble import RandomForestRegressor\n",
    "from sklearn.linear_model import LinearRegression\n",
    "from sklearn.linear_model import ElasticNet\n",
    "from sklearn.tree import DecisionTreeRegressor\n",
    "from sklearn import svm\n",
    "from sklearn.linear_model import SGDRegressor\n",
    "from sklearn.ensemble import GradientBoostingRegressor\n",
    "from sklearn.neural_network import MLPRegressor\n",
    "from sklearn.model_selection import cross_val_score, cross_validate\n",
    "\n",
    "from sklearn.metrics import r2_score\n",
    "from sklearn.metrics import mean_squared_error\n",
    "\n",
    "from boruta import BorutaPy\n",
    "\n",
    "from scipy import stats\n",
    "\n",
    "# Código que transforma o csv em um dataframe pandas\n",
    "pd.set_option(\"display.max_columns\", None)\n",
    "df_train = pd.read_csv('train_set.csv')"
   ]
  },
  {
   "cell_type": "markdown",
   "id": "060e3aa8-3c14-414c-ad9b-4f87f4f4bd72",
   "metadata": {},
   "source": [
    "## Preparação dos dados"
   ]
  },
  {
   "cell_type": "code",
   "execution_count": 2,
   "id": "d7b8bf08-bf04-44d0-918e-254d79194621",
   "metadata": {},
   "outputs": [],
   "source": [
    "# Criar uma cópia do conjunto de dados\n",
    "df_dev = df_train.copy()"
   ]
  },
  {
   "cell_type": "markdown",
   "id": "2ad96e31-1bb6-484e-8e29-a89f9d9fd5d6",
   "metadata": {},
   "source": [
    "### Limpeza dos dados"
   ]
  },
  {
   "cell_type": "code",
   "execution_count": 3,
   "id": "8b03e53a-72f8-487b-a317-e0ac198e2460",
   "metadata": {},
   "outputs": [],
   "source": [
    "# 1. Corrigir ou remover outliers\n",
    "def exclui_outliers(DataFrame, col_name):\n",
    "    '''Função que utiliza a regra:\n",
    "    Q1 - 1,5 x IQR (ou -2,7 sigma) / Q3 + 1,5 x IQR (ou 2,7 sigma) para excluir outliers.\n",
    "    A função pega todos os valores que estão fora desse intervalo e o substituem para \"nan\".\n",
    "    \n",
    "    :param DataFrame: (dataframe) \n",
    "    Dataframe que você quer aplicar a regra.\n",
    "    \n",
    "    :param col_name: (series)\n",
    "    Coluna(s) quantitativas contínuas que você quer eliminar os outliers.\n",
    "    Deve ser passada entre aspas ao chamar a função.\n",
    "    \n",
    "    :return: (dataframe)\n",
    "    Dataset com as respectivas colunas sem os possíveis outliers.\n",
    "    '''\n",
    "    intervalo = 2.7*DataFrame[col_name].std()\n",
    "    media = DataFrame[col_name].mean()\n",
    "    DataFrame.loc[DataFrame[col_name] < (media - intervalo), col_name] = np.nan\n",
    "    DataFrame.loc[DataFrame[col_name] > (media + intervalo), col_name] = np.nan"
   ]
  },
  {
   "cell_type": "code",
   "execution_count": 4,
   "id": "cd9215dc-e988-4521-982b-c66566e84261",
   "metadata": {},
   "outputs": [],
   "source": [
    "# Eliminar outliers\n",
    "numerical_cols = ['accommodates', 'bathrooms', 'bedrooms', 'beds', 'price']\n",
    "for col in numerical_cols:\n",
    "    exclui_outliers(df_dev, col)"
   ]
  },
  {
   "cell_type": "code",
   "execution_count": 5,
   "id": "ea2ef4a1-0a22-433c-bb70-b005fd14d976",
   "metadata": {},
   "outputs": [],
   "source": [
    "# 2. Preencher ou remover valores ausentes\n",
    "df_dev.dropna(inplace=True)"
   ]
  },
  {
   "cell_type": "markdown",
   "id": "5cf91706-a43e-49cb-8e01-c5c1be268bfb",
   "metadata": {},
   "source": [
    "#### df_dev.describe()"
   ]
  },
  {
   "cell_type": "markdown",
   "id": "223669a0-c68e-4f80-9def-2f1647691c00",
   "metadata": {},
   "source": [
    "### Feature Engineering - Parte I (preparação para o feature selection)"
   ]
  },
  {
   "cell_type": "code",
   "execution_count": 6,
   "id": "344e8f42-ccba-44e8-a4aa-a2cb951e7b4d",
   "metadata": {},
   "outputs": [],
   "source": [
    "# 1. Separar as variáveis independentes da variável dependente\n",
    "df_sel_X = df_dev.drop('price', axis=1)\n",
    "df_sel_y = df_dev['price']"
   ]
  },
  {
   "cell_type": "code",
   "execution_count": 7,
   "id": "d91e4ac5-f66c-4a60-96c0-a0092bd086bd",
   "metadata": {},
   "outputs": [],
   "source": [
    "# 2. Criar uma nova coluna com a transformação mapeada na etapa de EDA\n",
    "\n",
    "# Função que irá criar a nova coluna\n",
    "def combined_attributes_host_since(X, column_name):\n",
    "    '''Função que faz um feature engineering no dataset, onde é criado uma nova coluna.\n",
    "    Essa coluna é criada a partir da subtração de uma coluna de data pré-existente e da data \n",
    "    atual (do dia de hoje), portanto, o resultado é uma nova coluna que representa a quantidade de dias\n",
    "    entre a data existente menos a data atual.\n",
    "    No final a coluna de data pré-existente é excluída.\n",
    "    \n",
    "    :param X: (dataframe)\n",
    "    Dataframe a ser feito o feature engineering.\n",
    "    \n",
    "    :param column_name: (series)\n",
    "    Coluna de data pré-existente a ser subtraída da data atual. \n",
    "    Deve ser passada entre aspas ao chamar a função.\n",
    "    \n",
    "    :return: (dataframe)\n",
    "    Dataset com o feature engineering implementado e a coluna data pré-existente excluída.\n",
    "    '''\n",
    "    X.host_since = pd.to_datetime(X[column_name], infer_datetime_format=True)\n",
    "    X['host_since_days'] = (X[column_name] - pd.Timestamp.now().normalize()).astype(str)\n",
    "    X.host_since_days = X.host_since_days.str.replace('-', '').str.replace('days', '').astype('int64')\n",
    "    X.drop(column_name, axis=1, inplace=True)\n",
    "\n",
    "# Execução da função\n",
    "combined_attributes_host_since(df_sel_X, 'host_since')"
   ]
  },
  {
   "cell_type": "code",
   "execution_count": 8,
   "id": "ad76be34-3430-4531-876c-57ebdfa1fdb0",
   "metadata": {},
   "outputs": [],
   "source": [
    "# 3. Transformar as variáveis qualitativas para numéricas\n",
    "df_sel_X = pd.get_dummies(df_sel_X, drop_first=True)"
   ]
  },
  {
   "cell_type": "markdown",
   "id": "ec745341-a2f5-4125-be7b-778e82d9808b",
   "metadata": {},
   "source": [
    "### Feature Selection"
   ]
  },
  {
   "cell_type": "markdown",
   "id": "0a546911-ffe2-4a27-9705-c6323aef7441",
   "metadata": {},
   "source": [
    "#### 1. Mutual info regression\n",
    "\n",
    "A ideia desse método é: Se X e y são independentes, então nenhuma informação sobre y pode ser obtida conhecendo X ou vice-versa. Nesse caso, sua informação mútua é 0. Em contrapartida, se X é uma função determinística de y, então podemos determinar X de y e y de X, com informação mútua de 1.\n",
    "\n",
    "Quanto menor o valor, menos a variável descreve a relação com o alvo!\n",
    "\n",
    "A vantagem de usar informações mútuas sobre o F-Test é que ele se dá bem com a relação não linear entre as variáveis de recursos e do alvo.\n",
    "\n",
    "**Pela definição do Sklearn:**\n",
    "\n",
    "A informação mútua (MI) entre duas variáveis aleatórias é um valor não negativo, que mede a dependência entre as variáveis. É igual a zero se e somente se duas variáveis aleatórias são independentes, e valores mais altos significam maior dependência.\n",
    "\n",
    "A função baseia-se em métodos não paramétricos baseados na estimativa de entropia de distâncias de k-vizinhos mais próximos."
   ]
  },
  {
   "cell_type": "code",
   "execution_count": 9,
   "id": "5d851e58-177b-484c-a1d4-d3423241f2b5",
   "metadata": {},
   "outputs": [
    {
     "data": {
      "text/plain": [
       "['host_response_rate',\n",
       " 'host_acceptance_rate',\n",
       " 'latitude',\n",
       " 'longitude',\n",
       " 'accommodates',\n",
       " 'bathrooms',\n",
       " 'bedrooms',\n",
       " 'beds',\n",
       " 'reviews_per_month',\n",
       " 'host_since_days',\n",
       " 'room_type_Private room']"
      ]
     },
     "execution_count": 9,
     "metadata": {},
     "output_type": "execute_result"
    },
    {
     "data": {
      "image/png": "[encoded data removed]",
      "text/plain": [
       "<Figure size 1080x360 with 1 Axes>"
      ]
     },
     "metadata": {
      "needs_background": "light"
     },
     "output_type": "display_data"
    }
   ],
   "source": [
    "# Função que retorna os valores da informação mútua\n",
    "def select_features_mi(X, y, percentile):\n",
    "    '''Função que faz um feature selection do dataset.\n",
    "    A função utiliza o método mutual info regression do SKlearn.\n",
    "    Deve-se dividir o dataset em variáveis independentes(X) e variável dependente(y).\n",
    "    \n",
    "    :param X: (dataframe) \n",
    "    Dataframe com o conjunto de variáveis independentes.\n",
    "    \n",
    "    :param y: (series)\n",
    "    Coluna com a variável dependente.\n",
    "    \n",
    "    :param percentile: (number)\n",
    "    Valor do percentil a ser passado para que a função filtre a quantidade \n",
    "    de colunas que você queira selecionar.\n",
    "    \n",
    "    :return: (list/graph)\n",
    "    Lista com o nome das variáveis selecionadas como as mais \"importantes\".\n",
    "    Gráfico com a comparação de todas as variáveis.\n",
    "    '''\n",
    "    # Retorna todas as informações do MI entre as variáveis\n",
    "    mutual_info = mutual_info_regression(X, y)\n",
    "    mutual_info = pd.Series(mutual_info)\n",
    "    mutual_info.index = X.columns\n",
    "    lst_mi_scores = mutual_info.sort_values(ascending=False)\n",
    "    graph_mi_scores = mutual_info.sort_values(ascending=False).plot.bar(figsize=(15,5))\n",
    "\n",
    "    # Aplicando o metodo \"select percentile\"\n",
    "    sel_ = SelectPercentile(mutual_info_regression, percentile=percentile).fit(X, y)\n",
    "    selected_mi_variables = list(X.columns[sel_.get_support()])\n",
    "    return selected_mi_variables\n",
    "\n",
    "# Aplicando a função do MI\n",
    "select_features_mi(df_sel_X, df_sel_y, 30)"
   ]
  },
  {
   "cell_type": "markdown",
   "id": "d8d17717-2f87-4844-ba5d-f0012f5ec18e",
   "metadata": {},
   "source": [
    "#### 2. f_regression\n",
    "\n",
    "Análise de variância (ANOVA) é uma técnica estatística utilizada para verificar se as médias de dois ou mais grupos são significativamente diferentes entre si. Verifica-se o impacto de um ou mais fatores comparando as médias de diferentes amostras.\n",
    "\n",
    "**Pela definição do Sklearn:**\n",
    "\n",
    "Testes de regressão linear univariada retornando a estatística F e os valores p. "
   ]
  },
  {
   "cell_type": "code",
   "execution_count": 10,
   "id": "3b690509-deeb-4d99-9910-a8a732fb0b02",
   "metadata": {},
   "outputs": [
    {
     "data": {
      "text/plain": [
       "['host_acceptance_rate',\n",
       " 'latitude',\n",
       " 'accommodates',\n",
       " 'bathrooms',\n",
       " 'bedrooms',\n",
       " 'beds',\n",
       " 'number_of_reviews',\n",
       " 'reviews_per_month',\n",
       " 'host_since_days',\n",
       " 'room_type_Hotel room',\n",
       " 'room_type_Private room']"
      ]
     },
     "execution_count": 10,
     "metadata": {},
     "output_type": "execute_result"
    },
    {
     "data": {
      "image/png": "[encoded data removed]",
      "text/plain": [
       "<Figure size 1080x360 with 1 Axes>"
      ]
     },
     "metadata": {
      "needs_background": "light"
     },
     "output_type": "display_data"
    }
   ],
   "source": [
    "# Função que retorna os resultados da anova\n",
    "def select_features_anova(X, y, percentile):\n",
    "    '''Função que faz um feature selection do dataset.\n",
    "    A função utiliza o método f_regression do SKlearn.\n",
    "    Deve-se dividir o dataset em variáveis independentes(X) e variável dependente(y).\n",
    "    \n",
    "    :param X: (dataframe) \n",
    "    Dataframe com o conjunto de variáveis independentes.\n",
    "    \n",
    "    :param y: (series)\n",
    "    Coluna com a variável dependente.\n",
    "    \n",
    "    :param percentile: (number)\n",
    "    Valor do percentil a ser passado para que a função filtre a quantidade \n",
    "    de colunas que você queira selecionar.\n",
    "    \n",
    "    :return: (list/graph)\n",
    "    Lista com o nome das variáveis selecionadas como as mais \"importantes\".\n",
    "    Gráfico com a comparação de todas as variáveis.\n",
    "    '''\n",
    "    # Retorna todas as informações do método\n",
    "    univariate = f_regression(X, y)\n",
    "    univariate = pd.Series(univariate[1])\n",
    "    univariate.index = X.columns\n",
    "    lst_anova_scores = univariate.sort_values(ascending=False, inplace=True)\n",
    "    graph_anova_scores = univariate.sort_values(ascending=False).plot.bar(figsize=(15,5)) # eixo y do gráfico é relativo aos p-values\n",
    "    \n",
    "    # Aplicando o metodo \"select percentile\"\n",
    "    sel_ = SelectPercentile(f_regression, percentile=percentile).fit(X, y)\n",
    "    selected_anova_variables = list(X.columns[sel_.get_support()])\n",
    "    return selected_anova_variables\n",
    "\n",
    "# Aplicando a função da anova\n",
    "select_features_anova(df_sel_X, df_sel_y, 30)"
   ]
  },
  {
   "cell_type": "markdown",
   "id": "d905dff3-ef8e-4a7e-b0b1-f6cdd0b08f03",
   "metadata": {},
   "source": [
    "#### 3. Baseado em árvore\n",
    "\n",
    "Este é um método incorporado. Os métodos incorporados usam algoritmos que possuem métodos de seleção de recursos integrados.\n",
    "\n",
    "Também podemos usar RandomForest para selecionar recursos com base na importância do recurso.\n",
    "\n",
    "Calculamos a importância do recurso usando impurezas de nó em cada árvore de decisão. Na floresta aleatória, a importância final do recurso é a média de todas as importâncias dos recursos da árvore de decisão."
   ]
  },
  {
   "cell_type": "code",
   "execution_count": 11,
   "id": "c27b98b7-4a84-43a3-be95-86e5f7cac4d6",
   "metadata": {},
   "outputs": [
    {
     "name": "stdout",
     "output_type": "stream",
     "text": [
      "11 selected features\n"
     ]
    },
    {
     "data": {
      "text/plain": [
       "['host_acceptance_rate',\n",
       " 'latitude',\n",
       " 'longitude',\n",
       " 'bathrooms',\n",
       " 'bedrooms',\n",
       " 'availability_90',\n",
       " 'availability_365',\n",
       " 'reviews_per_month',\n",
       " 'host_since_days',\n",
       " 'host_response_time_within a few hours',\n",
       " 'host_is_superhost_t']"
      ]
     },
     "execution_count": 11,
     "metadata": {},
     "output_type": "execute_result"
    }
   ],
   "source": [
    "# Função que retorna a seleção de features baseado em árvores\n",
    "\n",
    "# treinando e selecionando as features pelo método\n",
    "def select_features_rf(X, y, num_feats):\n",
    "    '''Função que faz um feature selection do dataset.\n",
    "    A função utiliza o método incorporado do random forest do SKlearn.\n",
    "    Deve-se dividir o dataset em variáveis independentes(X) e variável dependente(y).\n",
    "    \n",
    "    :param X: (dataframe) \n",
    "    Dataframe com o conjunto de variáveis independentes.\n",
    "    \n",
    "    :param y: (series)\n",
    "    Coluna com a variável dependente.\n",
    "    \n",
    "    :param num_feats: (number)\n",
    "    Número que informa a quantidade de colunas que você quer selecionar\n",
    "    \n",
    "    :return: (list)\n",
    "    Lista com o nome das variáveis selecionadas como as mais \"importantes\".\n",
    "    '''\n",
    "    # treinando o modelo\n",
    "    embeded_rf_selector = SelectFromModel(RandomForestRegressor(), max_features=num_feats)\n",
    "    embeded_rf_selector.fit(X, y)\n",
    "    \n",
    "    # extraindo as features mais importamtes\n",
    "    embeded_rf_support = embeded_rf_selector.get_support()\n",
    "    embeded_rf_feature = X.loc[:,embeded_rf_support].columns.tolist()\n",
    "    print(str(len(embeded_rf_feature)), 'selected features')\n",
    "    return embeded_rf_feature\n",
    "\n",
    "# Aplicando a função do método de árvores\n",
    "select_features_rf(df_sel_X, df_sel_y, 11)"
   ]
  },
  {
   "cell_type": "markdown",
   "id": "f534e178-dd21-4452-bf45-172b332bf4df",
   "metadata": {},
   "source": [
    "#### 4. [Boruta](https://towardsdatascience.com/boruta-explained-the-way-i-wish-someone-explained-it-to-me-4489d70e154a)"
   ]
  },
  {
   "cell_type": "code",
   "execution_count": 12,
   "id": "1b785d36-fbad-42a6-bf92-08d8019bbc60",
   "metadata": {},
   "outputs": [
    {
     "name": "stdout",
     "output_type": "stream",
     "text": [
      "features in the green area: ['bathrooms', 'bedrooms', 'reviews_per_month', 'host_response_time_within a few hours', 'host_is_superhost_t', 'room_type_Hotel room']\n",
      "features in the blue area: ['latitude', 'longitude', 'availability_365']\n"
     ]
    }
   ],
   "source": [
    "# Função que aplica o método do boruta\n",
    "def select_features_boruta(X, y):\n",
    "    '''Função que faz um feature selection do dataset.\n",
    "    A função utiliza o método do boruta. Para mais informações, acesse o link:\n",
    "    https://towardsdatascience.com/boruta-explained-the-way-i-wish-someone-explained-it-to-me-4489d70e154a\n",
    "    Deve-se dividir o dataset em variáveis independentes(X) e variável dependente(y).\n",
    "    \n",
    "    :param X: (dataframe or numpy array) \n",
    "    Dataframe ou array com o conjunto de variáveis independentes.\n",
    "    \n",
    "    :param y: (series or numpy array)\n",
    "    Coluna ou array com a variável dependente.\n",
    "\n",
    "    :return: (list)\n",
    "    Lista com o nome das variáveis selecionadas como as mais \"importantes\" (green area).\n",
    "    Lista com o nome das variáveis selecionadas como \"promissoras\" (blue area).\n",
    "    '''\n",
    "    # initialize Boruta\n",
    "    forest = RandomForestRegressor(\n",
    "       n_jobs = -1, \n",
    "       max_depth = 5\n",
    "    )\n",
    "    boruta = BorutaPy(\n",
    "       estimator = forest, \n",
    "       n_estimators = 'auto',\n",
    "       max_iter = 100 # number of trials to perform\n",
    "    )\n",
    "    # fit Boruta (it accepts np.array, not pd.DataFrame)\n",
    "    boruta.fit(np.array(X), np.array(y))\n",
    "    \n",
    "    # print results\n",
    "    green_area = X.columns[boruta.support_].to_list()\n",
    "    blue_area = X.columns[boruta.support_weak_].to_list()\n",
    "    print('features in the green area:', green_area)\n",
    "    print('features in the blue area:', blue_area)\n",
    "\n",
    "# Aplicando a função do boruta\n",
    "select_features_boruta(df_sel_X, df_sel_y)"
   ]
  },
  {
   "cell_type": "markdown",
   "id": "6ff1d0cc-65cf-4748-bdce-0670677ac2c3",
   "metadata": {},
   "source": [
    "Após executar todos os métodos, finalmente vamos selecionar as variáveis que irão alimentar o modelo de machine learning. São elas: 'host_acceptance_rate', 'latitude', 'longitude', 'accommodates', 'bathrooms', 'bedrooms', 'beds', 'host_since_days', 'room_type_Hotel room', 'room_type_Private room', 'reviews_per_month', 'availability_365', 'host_is_superhost_t', 'host_response_time_within a few hours'"
   ]
  },
  {
   "cell_type": "code",
   "execution_count": 13,
   "id": "31e15940-fc8d-49b5-a51e-85955419adb6",
   "metadata": {},
   "outputs": [],
   "source": [
    "# Seleção das variáveis\n",
    "X = df_sel_X[['latitude', 'longitude', 'accommodates', 'bathrooms', \n",
    "              'bedrooms', 'beds', 'room_type_Hotel room', 'room_type_Private room', 'room_type_Shared room',\n",
    "              'availability_365']]\n",
    "#               'host_acceptance_rate', 'host_since_days', 'reviews_per_month', 'host_is_superhost_t', 'host_response_time_within a few hours'\n",
    "y = df_sel_y.copy()"
   ]
  },
  {
   "cell_type": "markdown",
   "id": "c4766444-451b-47d6-bf74-d9b6a95a89d8",
   "metadata": {},
   "source": [
    "### Feature Engineering - Parte II (preparação para o modelo de ML)"
   ]
  },
  {
   "cell_type": "code",
   "execution_count": 14,
   "id": "36757066-d9a0-49e0-8ab9-a7e80989befc",
   "metadata": {},
   "outputs": [],
   "source": [
    "# 1. Criar pipelines para fazer as transformações necessárias\n",
    "\n",
    "# 1.1 Separar as variáveis qualitativas das quantitativas\n",
    "continuous_columns = selector(dtype_exclude=['uint8'])\n",
    "qualitative_columns = selector(dtype_include=['uint8'])\n",
    "\n",
    "continuous_columns = continuous_columns(X)\n",
    "qualitative_columns = qualitative_columns(X)\n",
    "\n",
    "# 1.2 Pipeline das variáveis numéricas\n",
    "num_pipeline = Pipeline([\n",
    "    ('poly_features', PolynomialFeatures(2)),\n",
    "    ('std_scaler', StandardScaler())\n",
    "\n",
    "])\n",
    "\n",
    "# 1.4 Aplicar as respectivas transformações com o metodo column transformer\n",
    "preprocessor = ColumnTransformer([\n",
    "    ('num', num_pipeline, continuous_columns)],\n",
    "     remainder='passthrough')"
   ]
  },
  {
   "cell_type": "markdown",
   "id": "b72fd845-f911-4127-b2db-a3da38e332ba",
   "metadata": {},
   "source": [
    "## Pré-Seleção de Modelos Promissores\n",
    "\n",
    "Nessa etapa iremos apenas criar um baseline e depois trabalhar uma rede neural. Faremos o baseline com um modelo mais simples, uma regressão linear e criaremos uma rede neural para comparar o desempenho dos dois."
   ]
  },
  {
   "cell_type": "markdown",
   "id": "bd598f44-fa50-40c7-afa1-69fcb56a5f4e",
   "metadata": {},
   "source": [
    "### Baseline"
   ]
  },
  {
   "cell_type": "code",
   "execution_count": 15,
   "id": "26b18d55-f9e7-456f-bd23-c3065dc9d2a5",
   "metadata": {},
   "outputs": [],
   "source": [
    "# 1. Anexando o regressor ao pipeline de pré-processamento\n",
    "lin_reg = Pipeline(\n",
    "    steps=[('preprocessor', preprocessor), ('regressor', LinearRegression())]\n",
    ")\n",
    "\n",
    "# 2. Aplicando a validação cruzada\n",
    "lin_scores = cross_validate(lin_reg, X, y, scoring=('r2', 'neg_mean_squared_error'), cv = 5, return_train_score=True)\n",
    "\n",
    "# Treino e teste RMSE\n",
    "lin_train_rmse_scores = np.sqrt(-lin_scores['train_neg_mean_squared_error'])\n",
    "lin_test_rmse_scores = np.sqrt(-lin_scores['test_neg_mean_squared_error'])\n",
    "\n",
    "# Treino e teste R2\n",
    "lin_train_r2_scores = lin_scores['train_r2']\n",
    "lin_test_r2_scores = lin_scores['test_r2']\n",
    "\n",
    "\n",
    "# Função de avaliação dos resultados\n",
    "def display_scores(scores):\n",
    "    print('Scores:', scores)\n",
    "    print('Média:', scores.mean())\n",
    "    print('Desvio Padrão:', scores.std())"
   ]
  },
  {
   "cell_type": "code",
   "execution_count": 16,
   "id": "ed319442-3da9-4055-a84c-4bcdd4a35338",
   "metadata": {},
   "outputs": [
    {
     "name": "stdout",
     "output_type": "stream",
     "text": [
      "Scores: [389.53279769 378.31842433 356.07298856 370.23968491 379.60821623]\n",
      "Média: 374.7544223469739\n",
      "Desvio Padrão: 11.171755684309964\n",
      "Scores: [314.08130692 365.40539837 444.89154904 396.18544577 358.960206  ]\n",
      "Média: 375.9047812202404\n",
      "Desvio Padrão: 43.33584459135072\n"
     ]
    }
   ],
   "source": [
    "# Avaliação do baseline RMSE\n",
    "display_scores(lin_train_rmse_scores) \n",
    "display_scores(lin_test_rmse_scores) "
   ]
  },
  {
   "cell_type": "code",
   "execution_count": 17,
   "id": "40861a72-2a76-4be0-91d7-3e6945c8dc35",
   "metadata": {},
   "outputs": [
    {
     "name": "stdout",
     "output_type": "stream",
     "text": [
      "Scores: [0.2756411  0.28213639 0.29357557 0.28270653 0.28893925]\n",
      "Média: 0.28459976793041786\n",
      "Desvio Padrão: 0.006153153039533785\n",
      "Scores: [0.31571492 0.27661    0.25027908 0.27894341 0.24844978]\n",
      "Média: 0.27399943578371\n",
      "Desvio Padrão: 0.024441275279115205\n"
     ]
    }
   ],
   "source": [
    "# Avaliação do baseline R2\n",
    "display_scores(lin_train_r2_scores) \n",
    "display_scores(lin_test_r2_scores) "
   ]
  },
  {
   "cell_type": "markdown",
   "id": "8ce2b4e6-5cde-4552-89dc-0bb2f951afdb",
   "metadata": {},
   "source": [
    "### Outros modelos promissores"
   ]
  },
  {
   "cell_type": "code",
   "execution_count": 18,
   "id": "630e9237-ff84-4e69-b09d-28b6d16c9ed8",
   "metadata": {},
   "outputs": [],
   "source": [
    "# Função para treinar e avaliar diversos modelos\n",
    "def run_regressor_models(X, y, cv, scoring):\n",
    "    '''Função que treina os seguintes modelos de machine learning:\n",
    "    DecisionTreeRegressor, RandomForestRegressor, svm, SGDRegressor,\n",
    "    GradientBoostingRegressor, ElasticNet, MLPRegressor.\n",
    "    A função aplica a validação cruzada no conjunto de dados e retorna a média\n",
    "    e o desvio-padrão da métrica selecionada no conjunto de treino e validação.\n",
    "    As únicas métricas ativas são RMSE e R2.\n",
    "    \n",
    "    :param X: (dataframe or numpy array) \n",
    "    Dataframe ou array com o conjunto de variáveis independentes.\n",
    "    \n",
    "    :param y: (series or numpy array)\n",
    "    Coluna ou array com a variável dependente.\n",
    "    \n",
    "    :param cv: (int)\n",
    "    Determina a estratégia de divisão de validação cruzada.\n",
    "    \n",
    "    :param scoring: (str)\n",
    "    Estratégia para avaliar o desempenho do modelo de validação cruzada no conjunto de validação.\n",
    "    Deve ser passada entre aspas ao chamar a função.\n",
    "\n",
    "    :return: (dataframe)\n",
    "    Dataframe com os modelos, média e desvio-padrão no conjunto de treino e validação.\n",
    "    '''\n",
    "    # 1. Instanciar os modelos\n",
    "    tree_reg = DecisionTreeRegressor()\n",
    "    rf_reg = RandomForestRegressor()\n",
    "    svm_reg = svm.SVR()\n",
    "    sgd_reg = SGDRegressor()\n",
    "    gbr_reg = GradientBoostingRegressor()\n",
    "    elastic_net = ElasticNet()\n",
    "    mlp_reg = MLPRegressor()\n",
    "\n",
    "    # 2. Treinar e avaliar os modelos\n",
    "    df_result = pd.DataFrame()\n",
    "    \n",
    "    for model in (tree_reg, rf_reg, svm_reg, sgd_reg, gbr_reg, elastic_net, mlp_reg):\n",
    "        reg = Pipeline(\n",
    "            steps=[('preprocessor', preprocessor), ('regressor', model)]\n",
    "        )\n",
    "        scores = cross_validate(reg, X, y, return_train_score=True,\n",
    "                                scoring=scoring, cv=cv)\n",
    "        \n",
    "        # Treino e teste RMSE\n",
    "        if scoring == 'neg_mean_squared_error':\n",
    "            train_rmse_scores = np.sqrt(-scores['train_score'])\n",
    "            test_rmse_scores = np.sqrt(-scores['test_score'])\n",
    "            mean_train = train_rmse_scores.mean()\n",
    "            mean_test = test_rmse_scores.mean()\n",
    "            std_train = train_rmse_scores.std()\n",
    "            std_test = test_rmse_scores.std()\n",
    "    \n",
    "        # Treino e teste R2\n",
    "        if scoring == 'r2':\n",
    "            train_r2_scores = scores['train_score']\n",
    "            test_r2_scores = scores['test_score']\n",
    "            mean_train = train_r2_scores.mean()\n",
    "            mean_test = test_r2_scores.mean()\n",
    "            std_train = train_r2_scores.std()\n",
    "            std_test = test_r2_scores.std()\n",
    "\n",
    "        # 3. Criar dataset final\n",
    "        df_result = df_result.append({\n",
    "                                      'MODEL': model, #'TRAIN_SCORES': train_rmse_scores, 'VAL_SCORES': test_rmse_scores,\n",
    "                                      'MEAN_TRAIN_SCORES': mean_train, 'MEAN_TEST_SCORES': mean_test, 'STD_TRAIN_SCORES': std_train, \n",
    "                                      'STD_TEST_SCORES': std_test, \n",
    "                                      }, ignore_index=True)\n",
    "\n",
    "    return df_result"
   ]
  },
  {
   "cell_type": "code",
   "execution_count": 19,
   "id": "4673b3d7-3bb9-4404-8044-b78b64570962",
   "metadata": {},
   "outputs": [
    {
     "data": {
      "text/html": [
       "<div>\n",
       "<style scoped>\n",
       "    .dataframe tbody tr th:only-of-type {\n",
       "        vertical-align: middle;\n",
       "    }\n",
       "\n",
       "    .dataframe tbody tr th {\n",
       "        vertical-align: top;\n",
       "    }\n",
       "\n",
       "    .dataframe thead th {\n",
       "        text-align: right;\n",
       "    }\n",
       "</style>\n",
       "<table border=\"1\" class=\"dataframe\">\n",
       "  <thead>\n",
       "    <tr style=\"text-align: right;\">\n",
       "      <th></th>\n",
       "      <th>MODEL</th>\n",
       "      <th>MEAN_TRAIN_SCORES</th>\n",
       "      <th>MEAN_TEST_SCORES</th>\n",
       "      <th>STD_TRAIN_SCORES</th>\n",
       "      <th>STD_TEST_SCORES</th>\n",
       "    </tr>\n",
       "  </thead>\n",
       "  <tbody>\n",
       "    <tr>\n",
       "      <th>0</th>\n",
       "      <td>DecisionTreeRegressor()</td>\n",
       "      <td>0.999938</td>\n",
       "      <td>-0.251550</td>\n",
       "      <td>0.000032</td>\n",
       "      <td>0.270197</td>\n",
       "    </tr>\n",
       "    <tr>\n",
       "      <th>1</th>\n",
       "      <td>RandomForestRegressor()</td>\n",
       "      <td>0.899284</td>\n",
       "      <td>0.339640</td>\n",
       "      <td>0.003179</td>\n",
       "      <td>0.068475</td>\n",
       "    </tr>\n",
       "    <tr>\n",
       "      <th>2</th>\n",
       "      <td>SVR()</td>\n",
       "      <td>0.085667</td>\n",
       "      <td>0.088421</td>\n",
       "      <td>0.004913</td>\n",
       "      <td>0.025160</td>\n",
       "    </tr>\n",
       "    <tr>\n",
       "      <th>3</th>\n",
       "      <td>SGDRegressor()</td>\n",
       "      <td>0.248745</td>\n",
       "      <td>0.241079</td>\n",
       "      <td>0.011993</td>\n",
       "      <td>0.045622</td>\n",
       "    </tr>\n",
       "    <tr>\n",
       "      <th>4</th>\n",
       "      <td>GradientBoostingRegressor()</td>\n",
       "      <td>0.601246</td>\n",
       "      <td>0.362344</td>\n",
       "      <td>0.012495</td>\n",
       "      <td>0.074741</td>\n",
       "    </tr>\n",
       "    <tr>\n",
       "      <th>5</th>\n",
       "      <td>ElasticNet()</td>\n",
       "      <td>0.217726</td>\n",
       "      <td>0.221036</td>\n",
       "      <td>0.009802</td>\n",
       "      <td>0.047592</td>\n",
       "    </tr>\n",
       "    <tr>\n",
       "      <th>6</th>\n",
       "      <td>MLPRegressor()</td>\n",
       "      <td>0.262298</td>\n",
       "      <td>0.254901</td>\n",
       "      <td>0.009883</td>\n",
       "      <td>0.052495</td>\n",
       "    </tr>\n",
       "  </tbody>\n",
       "</table>\n",
       "</div>"
      ],
      "text/plain": [
       "                         MODEL  MEAN_TRAIN_SCORES  MEAN_TEST_SCORES  \\\n",
       "0      DecisionTreeRegressor()           0.999938         -0.251550   \n",
       "1      RandomForestRegressor()           0.899284          0.339640   \n",
       "2                        SVR()           0.085667          0.088421   \n",
       "3               SGDRegressor()           0.248745          0.241079   \n",
       "4  GradientBoostingRegressor()           0.601246          0.362344   \n",
       "5                 ElasticNet()           0.217726          0.221036   \n",
       "6               MLPRegressor()           0.262298          0.254901   \n",
       "\n",
       "   STD_TRAIN_SCORES  STD_TEST_SCORES  \n",
       "0          0.000032         0.270197  \n",
       "1          0.003179         0.068475  \n",
       "2          0.004913         0.025160  \n",
       "3          0.011993         0.045622  \n",
       "4          0.012495         0.074741  \n",
       "5          0.009802         0.047592  \n",
       "6          0.009883         0.052495  "
      ]
     },
     "execution_count": 19,
     "metadata": {},
     "output_type": "execute_result"
    }
   ],
   "source": [
    "run_regressor_models(X, y, 5, 'r2')"
   ]
  },
  {
   "cell_type": "markdown",
   "id": "49884cb2-9d10-465f-8c2e-3ac892ca9dc3",
   "metadata": {},
   "source": [
    "## Aperfeiçoar o modelo"
   ]
  },
  {
   "cell_type": "code",
   "execution_count": 20,
   "id": "62e05e77-aaba-4875-be89-1d4a4765cabc",
   "metadata": {},
   "outputs": [
    {
     "name": "stdout",
     "output_type": "stream",
     "text": [
      "Os melhores hiperparâmetros encontrados foram: {'elastic_net__alpha': 0.1, 'elastic_net__l1_ratio': 1}\n"
     ]
    }
   ],
   "source": [
    "# Tunning de hiperparâmetros\n",
    "# 1. Instanciar o pipeline\n",
    "final_model = Pipeline(\n",
    "    steps=[('preprocessor', preprocessor), ('elastic_net', ElasticNet())]\n",
    ")\n",
    "\n",
    "# 2. Intervalo de parâmetros a ser testado\n",
    "param_grid = {'elastic_net__alpha': [0.01, 0.1, 1, 10], 'elastic_net__l1_ratio': [0, 0.5, 1]}\n",
    "\n",
    "# 3. Aplicar e treinar a pesquisa de grade com validação cruzada\n",
    "grid_search = GridSearchCV(final_model, param_grid, cv = 5, scoring = 'r2',\n",
    "                           return_train_score = True)\n",
    "grid_search.fit(X, y)\n",
    "\n",
    "# Obtendo os melhores parâmetros para o elastic net\n",
    "print('Os melhores hiperparâmetros encontrados foram:', grid_search.best_params_)"
   ]
  },
  {
   "cell_type": "code",
   "execution_count": 21,
   "id": "f709f926-63a9-410d-a64b-1daaf854ec01",
   "metadata": {},
   "outputs": [
    {
     "name": "stdout",
     "output_type": "stream",
     "text": [
      "0.25146128182265814 0.2509035935941737 {'elastic_net__alpha': 0.01, 'elastic_net__l1_ratio': 0}\n",
      "0.2580066156953218 0.25614407490375823 {'elastic_net__alpha': 0.01, 'elastic_net__l1_ratio': 0.5}\n",
      "0.27010664306920873 0.2628840611870168 {'elastic_net__alpha': 0.01, 'elastic_net__l1_ratio': 1}\n",
      "0.23054796747990633 0.23293810204074283 {'elastic_net__alpha': 0.1, 'elastic_net__l1_ratio': 0}\n",
      "0.23643983542051786 0.23824364685448546 {'elastic_net__alpha': 0.1, 'elastic_net__l1_ratio': 0.5}\n",
      "0.270021554070773 0.2630006109316557 {'elastic_net__alpha': 0.1, 'elastic_net__l1_ratio': 1}\n",
      "0.21270000012211487 0.2162749967234438 {'elastic_net__alpha': 1, 'elastic_net__l1_ratio': 0}\n",
      "0.21772597663248097 0.2210360520751614 {'elastic_net__alpha': 1, 'elastic_net__l1_ratio': 0.5}\n",
      "0.26295104359889393 0.2583117405833827 {'elastic_net__alpha': 1, 'elastic_net__l1_ratio': 1}\n",
      "0.16611169821250196 0.16998932961272534 {'elastic_net__alpha': 10, 'elastic_net__l1_ratio': 0}\n",
      "0.18495364090705607 0.18893860137253443 {'elastic_net__alpha': 10, 'elastic_net__l1_ratio': 0.5}\n",
      "0.22174789383139415 0.22590043765622853 {'elastic_net__alpha': 10, 'elastic_net__l1_ratio': 1}\n"
     ]
    }
   ],
   "source": [
    "# Obtendo os melhores scores e parâmetros para o random forest\n",
    "cvres = grid_search.cv_results_\n",
    "for mean_train_score, mean_test_score, params in zip(cvres['mean_train_score'], cvres['mean_test_score'], cvres['params']):\n",
    "#     print(np.sqrt(-mean_score), params)\n",
    "    print(mean_train_score, mean_test_score, params)"
   ]
  },
  {
   "cell_type": "markdown",
   "id": "00f2a341-1fd4-4338-a63a-5831e948ce86",
   "metadata": {},
   "source": [
    "## Salvar o modelo"
   ]
  },
  {
   "cell_type": "code",
   "execution_count": 22,
   "id": "e40c399b-37fa-402b-a199-15dd0b9250cc",
   "metadata": {},
   "outputs": [
    {
     "data": {
      "text/plain": [
       "['elastic_net.pkl']"
      ]
     },
     "execution_count": 22,
     "metadata": {},
     "output_type": "execute_result"
    }
   ],
   "source": [
    "def save_model(model, model_filepath):\n",
    "    '''Function that saves our machine learning model.\n",
    "    \n",
    "    :param model: trained model with the best estimators.\n",
    "    :param model_filepath: name of the file that the model will have. Example: lgbm_model.pkl\n",
    "    \n",
    "    :return: saved model file\n",
    "    '''\n",
    "    # save best model\n",
    "    best_model = joblib.dump(model, model_filepath)\n",
    "    return best_model\n",
    "\n",
    "save_model(grid_search.best_estimator_, 'elastic_net.pkl')"
   ]
  },
  {
   "cell_type": "markdown",
   "id": "cb14dcda-d9f3-46e5-9b54-367ce8ce157f",
   "metadata": {},
   "source": [
    "## Avaliar o modelo no conjunto de testes"
   ]
  },
  {
   "cell_type": "code",
   "execution_count": 23,
   "id": "dbc94099-e034-495f-9ef5-a8aa7c5650ed",
   "metadata": {},
   "outputs": [],
   "source": [
    "# 1. Importar o conjunto de dados de testes\n",
    "test_set = pd.read_csv('test_set.csv')\n",
    "df_test = test_set.copy()"
   ]
  },
  {
   "cell_type": "code",
   "execution_count": 24,
   "id": "29e0c574-a56b-4db9-b183-18503c9a714f",
   "metadata": {},
   "outputs": [],
   "source": [
    "# 2. Corrigir ou remover outliers\n",
    "for col in numerical_cols:\n",
    "    exclui_outliers(df_test, col)"
   ]
  },
  {
   "cell_type": "code",
   "execution_count": 25,
   "id": "71a7b803-d2e9-4383-96f5-f93e335d7128",
   "metadata": {},
   "outputs": [],
   "source": [
    "# 3. Preencher ou remover valores ausentes\n",
    "df_test.dropna(inplace=True)"
   ]
  },
  {
   "cell_type": "code",
   "execution_count": 26,
   "id": "8465cd14-43f6-430b-8cda-d610146532dd",
   "metadata": {},
   "outputs": [],
   "source": [
    "# 4. Separar as variáveis independentes da variável dependente\n",
    "X_test = df_test.drop('price', axis=1)\n",
    "y_test = df_test['price']"
   ]
  },
  {
   "cell_type": "code",
   "execution_count": 27,
   "id": "edf72839-1340-4a36-9a33-beb26342178d",
   "metadata": {},
   "outputs": [],
   "source": [
    "# 5. Transformar as variáveis qualitativas para numéricas\n",
    "X_test = pd.get_dummies(X_test, drop_first=True)"
   ]
  },
  {
   "cell_type": "code",
   "execution_count": 28,
   "id": "bc21fd3f-d7a0-4cb8-8bcc-6d7ce644b045",
   "metadata": {},
   "outputs": [],
   "source": [
    "# 6. Seleção das variáveis\n",
    "X_test = X_test[['latitude', 'longitude', 'accommodates', 'bathrooms', \n",
    "                 'bedrooms', 'beds', 'room_type_Hotel room', 'room_type_Private room', 'room_type_Shared room',\n",
    "                 'availability_365']]"
   ]
  },
  {
   "cell_type": "code",
   "execution_count": 29,
   "id": "d25ca5de-265e-45ab-99c5-6381c248d2b3",
   "metadata": {},
   "outputs": [
    {
     "name": "stdout",
     "output_type": "stream",
     "text": [
      "O RMSE final é: 328.6042260770759\n",
      "O R2 final é: 0.313832129298488\n",
      "O intervalo de confiança para o RMSE é: [230.31143138 403.63116749]\n"
     ]
    }
   ],
   "source": [
    "\n",
    "def predict_evaluate(best_estimator, X_test, y_test, confidence_level):\n",
    "    '''Função que faz novas predições e avalia o resultado no conjunto de testes.\n",
    "    As únicas métricas ativas são RMSE e R2.\n",
    "    \n",
    "    :param best_estimator: (machine learning models or SKlearn pipeline) \n",
    "    Parâmetros do modelo de machine learning um pipeline do SKlearn.\n",
    "    \n",
    "    :param X_test: (dataframe or numpy array)\n",
    "    Dataframe ou array com o conjunto de dados independente.\n",
    "    \n",
    "    :param y_test: (series or numpy array)\n",
    "    Coluna ou vetor com o conjunto de dados da variável alvo.\n",
    "    \n",
    "    :param confidence_level: (number)\n",
    "    Nível de confiança que você queira nos seus resultados de avaliação do RMSE.\n",
    "    Geralmente varia entre 0.90, 0.95 e 0.99.\n",
    "\n",
    "    :return: \n",
    "    print dos resultados do RMSE, R2 e do intervalo de confiança para o RMSE.\n",
    "    '''\n",
    "    # Avaliar o modelo final no conjunto de teste\n",
    "    final_model = best_estimator\n",
    "\n",
    "    # Fazer predições com os dados de teste\n",
    "    final_predictions = final_model.predict(X_test)\n",
    "\n",
    "    # Avaliar as predições nos dados de teste\n",
    "    final_mse = mean_squared_error(y_test, final_predictions)\n",
    "    final_rmse = np.sqrt(final_mse)\n",
    "    print('O RMSE final é:', final_rmse)\n",
    "\n",
    "    final_r2 = r2_score(y_test, final_predictions)\n",
    "    print('O R2 final é:', final_r2)\n",
    "    \n",
    "    # Intervalo de confiança para o erro de generalização\n",
    "    confidence = confidence_level\n",
    "    squared_errors = (final_predictions - y_test) ** 2\n",
    "    confidence_interval = np.sqrt(stats.t.interval(confidence, len(squared_errors) - 1,\n",
    "                                                   loc = squared_errors.mean(),\n",
    "                                                   scale = stats.sem(squared_errors)))\n",
    "    print('O intervalo de confiança para o RMSE é:', confidence_interval)\n",
    "    \n",
    "predict_evaluate(grid_search.best_estimator_, X_test, y_test, 0.95)"
   ]
  },
  {
   "cell_type": "code",
   "execution_count": null,
   "id": "ae33d830-3c49-4b33-b011-8635aa4dd7cb",
   "metadata": {},
   "outputs": [],
   "source": []
  }
 ],
 "metadata": {
  "kernelspec": {
   "display_name": "Python 3",
   "language": "python",
   "name": "python3"
  },
  "language_info": {
   "codemirror_mode": {
    "name": "ipython",
    "version": 3
   },
   "file_extension": ".py",
   "mimetype": "text/x-python",
   "name": "python",
   "nbconvert_exporter": "python",
   "pygments_lexer": "ipython3",
   "version": "3.8.8"
  }
 },
 "nbformat": 4,
 "nbformat_minor": 5
}
